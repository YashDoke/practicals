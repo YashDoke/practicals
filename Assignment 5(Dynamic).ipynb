{
 "cells": [
  {
   "cell_type": "markdown",
   "id": "c938577a",
   "metadata": {},
   "source": [
    "# Assignment 5"
   ]
  },
  {
   "cell_type": "markdown",
   "id": "243f9d09",
   "metadata": {},
   "source": [
    "## Design n-Queens matrix having first Queen placed. Use backtracking to place remaining Queens to generate the final n-queen‘s matrix"
   ]
  },
  {
   "cell_type": "code",
   "execution_count": 2,
   "id": "f03ff738",
   "metadata": {},
   "outputs": [
    {
     "name": "stdout",
     "output_type": "stream",
     "text": [
      "5\n",
      "1 0 0 0 0 \n",
      "0 0 0 1 0 \n",
      "0 1 0 0 0 \n",
      "0 0 0 0 1 \n",
      "0 0 1 0 0 \n"
     ]
    },
    {
     "data": {
      "text/plain": [
       "True"
      ]
     },
     "execution_count": 2,
     "metadata": {},
     "output_type": "execute_result"
    }
   ],
   "source": [
    "# Python3 program to solve N Queen \n",
    "# Problem using backtracking\n",
    "global N\n",
    "N = int(input())\n",
    "  \n",
    "def printSolution(board): \n",
    "    for i in range(N):\n",
    "        for j in range(N):\n",
    "            print(board[i][j], end = \" \")\n",
    "        print() \n",
    "  \n",
    "# A utility function to check if a queen can\n",
    "# be placed on board[row][col]. Note that this\n",
    "# function is called when \"col\" queens are\n",
    "# already placed in columns from 0 to col -1.\n",
    "# So we need to check only left side for\n",
    "# attacking queens\n",
    "def isSafe(board, row, col):\n",
    "  \n",
    "    # Check this row on left side\n",
    "    for i in range(col):\n",
    "        if board[row][i] == 1:\n",
    "            return False\n",
    "  \n",
    "    # Check upper diagonal on left side\n",
    "    for i, j in zip(range(row, -1, -1), \n",
    "                    range(col, -1, -1)):\n",
    "        if board[i][j] == 1:\n",
    "            return False\n",
    "  \n",
    "    # Check lower diagonal on left side\n",
    "    for i, j in zip(range(row, N, 1), \n",
    "                    range(col, -1, -1)):\n",
    "        if board[i][j] == 1:\n",
    "            return False\n",
    "  \n",
    "    return True\n",
    "  \n",
    "def solveNQUtil(board, col):\n",
    "      \n",
    "    # base case: If all queens are placed\n",
    "    # then return true\n",
    "    if col >= N:\n",
    "        return True\n",
    "  \n",
    "    # Consider this column and try placing\n",
    "    # this queen in all rows one by one\n",
    "    for i in range(N):\n",
    "  \n",
    "        if isSafe(board, i, col):\n",
    "              \n",
    "            # Place this queen in board[i][col]\n",
    "            board[i][col] = 1\n",
    "  \n",
    "            # recur to place rest of the queens\n",
    "            if solveNQUtil(board, col + 1) == True:\n",
    "                return True\n",
    "  \n",
    "            # If placing queen in board[i][col\n",
    "            # doesn't lead to a solution, then\n",
    "            # queen from board[i][col]\n",
    "            board[i][col] = 0\n",
    "  \n",
    "    # if the queen can not be placed in any row in\n",
    "    # this column col then return false\n",
    "    return False\n",
    "  \n",
    "# This function solves the N Queen problem using\n",
    "# Backtracking. It mainly uses solveNQUtil() to\n",
    "# solve the problem. It returns false if queens\n",
    "# cannot be placed, otherwise return true and\n",
    "# placement of queens in the form of 1s.\n",
    "# note that there may be more than one\n",
    "# solutions, this function prints one of the\n",
    "# feasible solutions.\n",
    "def solveNQ():\n",
    "    '''board = [ [0, 0, 0, 0],\n",
    "              [0, 0, 0, 0],\n",
    "              [0, 0, 0, 0],\n",
    "              [0, 0, 0, 0] ]'''\n",
    "\n",
    "    board = [[0 for j in range(N)] for i in range(N)]\n",
    "  \n",
    "    if solveNQUtil(board, 0) == False:\n",
    "        print (\"Solution does not exist\")\n",
    "        return False\n",
    "  \n",
    "    printSolution(board)\n",
    "    return True\n",
    "  \n",
    "# Driver Code\n",
    "solveNQ()"
   ]
  },
  {
   "cell_type": "code",
   "execution_count": null,
   "id": "1aff24bc",
   "metadata": {},
   "outputs": [],
   "source": []
  }
 ],
 "metadata": {
  "kernelspec": {
   "display_name": "Python 3 (ipykernel)",
   "language": "python",
   "name": "python3"
  },
  "language_info": {
   "codemirror_mode": {
    "name": "ipython",
    "version": 3
   },
   "file_extension": ".py",
   "mimetype": "text/x-python",
   "name": "python",
   "nbconvert_exporter": "python",
   "pygments_lexer": "ipython3",
   "version": "3.8.3"
  }
 },
 "nbformat": 4,
 "nbformat_minor": 5
}
