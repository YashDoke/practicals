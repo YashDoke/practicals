{
 "cells": [
  {
   "cell_type": "markdown",
   "id": "b70832f1",
   "metadata": {},
   "source": [
    "# Assignment 1"
   ]
  },
  {
   "cell_type": "markdown",
   "id": "32687d20",
   "metadata": {},
   "source": [
    "## Non - recursive and Recursive program to calculate Fibonacci numbers"
   ]
  },
  {
   "cell_type": "code",
   "execution_count": 3,
   "id": "137749e1",
   "metadata": {},
   "outputs": [
    {
     "name": "stdout",
     "output_type": "stream",
     "text": [
      "ITERATIVE FIBONACCI: \n",
      "0 1 1 2 3 5 8 13 21 34 \n",
      "RECURSIVE FIBONACCI: \n",
      "0 1 1 2 3 5 8 13 21 34 "
     ]
    }
   ],
   "source": [
    "# Function to implement Iterative Approach\n",
    "def IterativeFibo(n):\n",
    "    f1 = 0\n",
    "    f2 = 1\n",
    "    for i in range(n):\n",
    "        if i < 2:\n",
    "            print(i,end = ' ')\n",
    "        else:\n",
    "            f3 = f1 + f2\n",
    "            f1 = f2\n",
    "            f2 = f3\n",
    "            print(f3,end = ' ')\n",
    "\n",
    "# Function to implement Recursive Approach\n",
    "def RecursiveFibo(n):\n",
    "    if (n == 0 or n == 1):\n",
    "        return n\n",
    "    else:\n",
    "        return (RecursiveFibo(n-1) + RecursiveFibo(n-2))\n",
    "    \n",
    "def main():\n",
    "    n = 10\n",
    "    \n",
    "    print(\"ITERATIVE FIBONACCI: \")\n",
    "    IterativeFibo(n)\n",
    "    \n",
    "    print(\"\\nRECURSIVE FIBONACCI: \")\n",
    "    for i in range(n):\n",
    "        print(RecursiveFibo(i),end = ' ')\n",
    "    \n",
    "if __name__ == '__main__':\n",
    "    main()"
   ]
  },
  {
   "cell_type": "code",
   "execution_count": null,
   "id": "a0c06934",
   "metadata": {},
   "outputs": [],
   "source": []
  }
 ],
 "metadata": {
  "kernelspec": {
   "display_name": "Python 3 (ipykernel)",
   "language": "python",
   "name": "python3"
  },
  "language_info": {
   "codemirror_mode": {
    "name": "ipython",
    "version": 3
   },
   "file_extension": ".py",
   "mimetype": "text/x-python",
   "name": "python",
   "nbconvert_exporter": "python",
   "pygments_lexer": "ipython3",
   "version": "3.8.3"
  }
 },
 "nbformat": 4,
 "nbformat_minor": 5
}
