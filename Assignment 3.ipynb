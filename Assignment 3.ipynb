{
 "cells": [
  {
   "cell_type": "markdown",
   "id": "ca910ffe",
   "metadata": {},
   "source": [
    "# Assignment 3"
   ]
  },
  {
   "cell_type": "markdown",
   "id": "e509a540",
   "metadata": {},
   "source": [
    "## Program to solve a fractional Knapsack problem using a greedy method"
   ]
  },
  {
   "cell_type": "code",
   "execution_count": 1,
   "id": "6eb58089",
   "metadata": {},
   "outputs": [
    {
     "name": "stdout",
     "output_type": "stream",
     "text": [
      "Maximum value we can obtain = 240.0\n"
     ]
    }
   ],
   "source": [
    "# Structure for an item which stores weight and\n",
    "# corresponding value of Item\n",
    "class Item:\n",
    "    def __init__(self, value, weight):\n",
    "        self.value = value\n",
    "        self.weight = weight\n",
    " \n",
    "# Main greedy function to solve problem\n",
    "def fractionalKnapsack(W, arr):\n",
    " \n",
    "    # sorting Item on basis of ratio\n",
    "    arr.sort(key=lambda x: (x.value/x.weight), reverse=True)\n",
    " \n",
    "    # Uncomment to see new order of Items with their\n",
    "    # ratio\n",
    "    # for item in arr:\n",
    "    #     print(item.value, item.weight, item.value/item.weight)\n",
    " \n",
    "    # Result(value in Knapsack)\n",
    "    finalvalue = 0.0\n",
    " \n",
    "    # Looping through all Items\n",
    "    for item in arr:\n",
    " \n",
    "        # If adding Item won't overflow, add it completely\n",
    "        if item.weight <= W:\n",
    "            W -= item.weight\n",
    "            finalvalue += item.value\n",
    " \n",
    "        # If we can't add current Item, add fractional part\n",
    "        # of it\n",
    "        else:\n",
    "            finalvalue += item.value * W / item.weight\n",
    "            break\n",
    "    # Returning final value\n",
    "    return finalvalue\n",
    " \n",
    " \n",
    "# Driver's Code\n",
    "if __name__ == \"__main__\":\n",
    " \n",
    "    # Weight of Knapsack\n",
    "    W = 50\n",
    "    arr = [Item(60, 10), Item(100, 20), Item(120, 30)]\n",
    " \n",
    "    # Function call\n",
    "    max_val = fractionalKnapsack(W, arr)\n",
    "    print ('Maximum value we can obtain = {}'.format(max_val))"
   ]
  },
  {
   "cell_type": "code",
   "execution_count": null,
   "id": "b236f802",
   "metadata": {},
   "outputs": [],
   "source": []
  }
 ],
 "metadata": {
  "kernelspec": {
   "display_name": "Python 3 (ipykernel)",
   "language": "python",
   "name": "python3"
  },
  "language_info": {
   "codemirror_mode": {
    "name": "ipython",
    "version": 3
   },
   "file_extension": ".py",
   "mimetype": "text/x-python",
   "name": "python",
   "nbconvert_exporter": "python",
   "pygments_lexer": "ipython3",
   "version": "3.8.3"
  }
 },
 "nbformat": 4,
 "nbformat_minor": 5
}
