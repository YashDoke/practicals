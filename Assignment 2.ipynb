{
 "cells": [
  {
   "cell_type": "markdown",
   "id": "8d9d4e25",
   "metadata": {},
   "source": [
    "# Assigment 2"
   ]
  },
  {
   "cell_type": "markdown",
   "id": "4e227258",
   "metadata": {},
   "source": [
    "## Program to implement Huffman Encoding using a greedy strategy"
   ]
  },
  {
   "cell_type": "code",
   "execution_count": 1,
   "id": "ee9b4054",
   "metadata": {},
   "outputs": [
    {
     "name": "stdout",
     "output_type": "stream",
     "text": [
      "f -> 0\n",
      "c -> 100\n",
      "d -> 101\n",
      "a -> 1100\n",
      "b -> 1101\n",
      "e -> 111\n"
     ]
    }
   ],
   "source": [
    "import heapq\n",
    " \n",
    "class node:\n",
    "    def __init__(self, freq, symbol, left=None, right=None):\n",
    "        # frequency of symbol\n",
    "        self.freq = freq\n",
    " \n",
    "        # symbol name (character)\n",
    "        self.symbol = symbol\n",
    " \n",
    "        # node left of current node\n",
    "        self.left = left\n",
    " \n",
    "        # node right of current node\n",
    "        self.right = right\n",
    " \n",
    "        # tree direction (0/1)\n",
    "        self.huff = ''\n",
    "         \n",
    "    def __lt__(self, nxt):\n",
    "        return self.freq < nxt.freq\n",
    "         \n",
    " \n",
    "# utility function to print huffman\n",
    "# codes for all symbols in the newly\n",
    "# created Huffman tree\n",
    "def printNodes(node, val=''):\n",
    "     \n",
    "    # huffman code for current node\n",
    "    newVal = val + str(node.huff)\n",
    " \n",
    "    # if node is not an edge node\n",
    "    # then traverse inside it\n",
    "    if(node.left):\n",
    "        printNodes(node.left, newVal)\n",
    "    if(node.right):\n",
    "        printNodes(node.right, newVal)\n",
    " \n",
    "        # if node is edge node then\n",
    "        # display its huffman code\n",
    "    if(not node.left and not node.right):\n",
    "        print(f\"{node.symbol} -> {newVal}\")\n",
    " \n",
    " \n",
    "# characters for huffman tree\n",
    "chars = ['a', 'b', 'c', 'd', 'e', 'f']\n",
    " \n",
    "# frequency of characters\n",
    "freq = [ 5, 9, 12, 13, 16, 45]\n",
    " \n",
    "# list containing unused nodes\n",
    "nodes = []\n",
    " \n",
    "# converting characters and frequencies\n",
    "# into huffman tree nodes\n",
    "for x in range(len(chars)):\n",
    "    heapq.heappush(nodes, node(freq[x], chars[x]))\n",
    " \n",
    "while len(nodes) > 1:\n",
    "     \n",
    "    # sort all the nodes in ascending order\n",
    "    # based on their frequency\n",
    "    left = heapq.heappop(nodes)\n",
    "    right = heapq.heappop(nodes)\n",
    " \n",
    "    # assign directional value to these nodes\n",
    "    left.huff = 0\n",
    "    right.huff = 1\n",
    " \n",
    "    # combine the 2 smallest nodes to create\n",
    "    # new node as their parent\n",
    "    newNode = node(left.freq+right.freq, left.symbol+right.symbol, left, right)\n",
    " \n",
    "    heapq.heappush(nodes, newNode)\n",
    " \n",
    "# Huffman Tree is ready!\n",
    "printNodes(nodes[0])"
   ]
  },
  {
   "cell_type": "code",
   "execution_count": null,
   "id": "484f7474",
   "metadata": {},
   "outputs": [],
   "source": []
  }
 ],
 "metadata": {
  "kernelspec": {
   "display_name": "Python 3 (ipykernel)",
   "language": "python",
   "name": "python3"
  },
  "language_info": {
   "codemirror_mode": {
    "name": "ipython",
    "version": 3
   },
   "file_extension": ".py",
   "mimetype": "text/x-python",
   "name": "python",
   "nbconvert_exporter": "python",
   "pygments_lexer": "ipython3",
   "version": "3.8.3"
  }
 },
 "nbformat": 4,
 "nbformat_minor": 5
}
