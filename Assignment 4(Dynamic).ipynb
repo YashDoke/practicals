{
 "cells": [
  {
   "cell_type": "markdown",
   "id": "b05aef3a",
   "metadata": {},
   "source": [
    "# Assignment 4"
   ]
  },
  {
   "cell_type": "markdown",
   "id": "672982b2",
   "metadata": {},
   "source": [
    "## Program to solve a 0-1 Knapsack problem using dynamic programming or branch and bound strategy"
   ]
  },
  {
   "cell_type": "code",
   "execution_count": 1,
   "id": "294e669b",
   "metadata": {},
   "outputs": [
    {
     "name": "stdout",
     "output_type": "stream",
     "text": [
      "Enter number of elements : 3\n",
      "60\n",
      "100\n",
      "120\n",
      "Enter number of elements : 3\n",
      "10\n",
      "20\n",
      "30\n",
      "Enter the capacity: 50\n",
      "220\n"
     ]
    }
   ],
   "source": [
    "# A Dynamic Programming based Python\n",
    "# Program for 0-1 Knapsack problem\n",
    "# Returns the maximum value that can\n",
    "# be put in a knapsack of capacity W\n",
    " \n",
    "\n",
    "def knapSack(W, wt, val, n):\n",
    "    K = [[0 for x in range(W + 1)] for x in range(n + 1)]\n",
    " \n",
    "    # Build table K[][] in bottom up manner\n",
    "    for i in range(n + 1):\n",
    "        for w in range(W + 1):\n",
    "            if i == 0 or w == 0:\n",
    "                K[i][w] = 0\n",
    "            elif wt[i-1] <= w:\n",
    "                K[i][w] = max(val[i-1]\n",
    "                          + K[i-1][w-wt[i-1]], \n",
    "                              K[i-1][w])\n",
    "            else:\n",
    "                K[i][w] = K[i-1][w]\n",
    " \n",
    "    return K[n][W]\n",
    " \n",
    "def InputList():\n",
    "    lst = []\n",
    "    n = int(input(\"Enter number of elements : \"))\n",
    "\n",
    "    for i in range(0, n):\n",
    "        ele = int(input())\n",
    "        lst.append(ele) \n",
    "    \n",
    "    return lst\n",
    "\n",
    "# Driver code\n",
    "#val = [60, 100, 120]\n",
    "val = InputList()\n",
    "#wt = [10, 20, 30]\n",
    "wt = InputList()\n",
    "#W = 50\n",
    "W = int(input(\"Enter the capacity: \"))\n",
    "n = len(val)\n",
    "print(knapSack(W, wt, val, n))\n"
   ]
  },
  {
   "cell_type": "code",
   "execution_count": null,
   "id": "1137bab1",
   "metadata": {},
   "outputs": [],
   "source": []
  }
 ],
 "metadata": {
  "kernelspec": {
   "display_name": "Python 3 (ipykernel)",
   "language": "python",
   "name": "python3"
  },
  "language_info": {
   "codemirror_mode": {
    "name": "ipython",
    "version": 3
   },
   "file_extension": ".py",
   "mimetype": "text/x-python",
   "name": "python",
   "nbconvert_exporter": "python",
   "pygments_lexer": "ipython3",
   "version": "3.8.3"
  }
 },
 "nbformat": 4,
 "nbformat_minor": 5
}
